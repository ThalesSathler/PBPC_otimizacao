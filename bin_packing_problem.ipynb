{
 "cells": [
  {
   "cell_type": "code",
   "execution_count": 15,
   "metadata": {},
   "outputs": [],
   "source": [
    "import random"
   ]
  },
  {
   "cell_type": "code",
   "execution_count": 1,
   "metadata": {},
   "outputs": [],
   "source": [
    "%load_ext ipython_unittest"
   ]
  },
  {
   "cell_type": "markdown",
   "metadata": {},
   "source": [
    "# Bin Packing Problem with Conflicts"
   ]
  },
  {
   "cell_type": "markdown",
   "metadata": {},
   "source": [
    "### Algorithm 1: ILS para o PBPC (KLB, ItBL) \n",
    "\n",
    "```\n",
    "S ← ConstroiSoluçãoInicial();\n",
    "K ← Número de bins em S;\n",
    "enquanto K ≥ KLB and S é viável, faça: \n",
    "  ReduzNúmeroBins(S);\n",
    "  K ← K − 1;\n",
    "  ItPERT ← 0;\n",
    "  enquanto ItPERT ≤ ItMAX and S não é viável, faça: \n",
    "    S ← BuscaLocal(S);\n",
    "    S ← EjectionChains(S);\n",
    "    se ItBL sucessivas BL e EC sem melhora entao˜\n",
    "      S ← Perturbação(S);\n",
    "      ItPERT ← ItPERT + 1;\n",
    "      ItBL ← 0;\n",
    "      fim se\n",
    "    fim enquanto\n",
    "fim enquanto\n",
    "```"
   ]
  },
  {
   "cell_type": "markdown",
   "metadata": {},
   "source": [
    "## Utilidades"
   ]
  },
  {
   "cell_type": "code",
   "execution_count": 13,
   "metadata": {},
   "outputs": [],
   "source": [
    "def get_lower_limit(bin_total_space, fixtures):\n",
    "    total_size = 0\n",
    "    for fixture in fixtures:\n",
    "        total_size += fixture[\"value\"]\n",
    "    \n",
    "    lower_limit = total_size / bin_total_space\n",
    "    \n",
    "    if lower_limit > int(lower_limit):\n",
    "        lower_limit = int(lower_limit) + 1\n",
    "\n",
    "    return lower_limit"
   ]
  },
  {
   "cell_type": "code",
   "execution_count": 2,
   "metadata": {},
   "outputs": [],
   "source": [
    "def has_conflict(conflicts, item, bins):\n",
    "    for item_bin in bins[\"itens\"]:\n",
    "        if item_bin[\"color\"] in conflicts[str(item[\"color\"])]:\n",
    "            return True\n",
    "    return False"
   ]
  },
  {
   "cell_type": "code",
   "execution_count": 3,
   "metadata": {},
   "outputs": [],
   "source": [
    "def is_solution_viable(solution, BIN_TOTAL_SPACE, conflicts):\n",
    "    for bins in solution:\n",
    "        if bins[\"space_left\"] < 0:\n",
    "            return False\n",
    "        for item in bins[\"itens\"]:\n",
    "            if has_conflict(conflicts, item, bins):\n",
    "                return False\n",
    "    return True"
   ]
  },
  {
   "cell_type": "code",
   "execution_count": 4,
   "metadata": {},
   "outputs": [],
   "source": [
    "#TODO - fazer realocate olhando se há espaço vazio no outro bin\n",
    "def realocate(bin_left, bin_right):\n",
    "    return True"
   ]
  },
  {
   "cell_type": "code",
   "execution_count": 5,
   "metadata": {},
   "outputs": [],
   "source": [
    "def swap_bins(bin_left, bin_right, bin_size):\n",
    "    for item_bin_left in bin_left[\"itens\"]:\n",
    "        for item_bin_right in bin_right[\"itens\"]:\n",
    "            # Verifica se o item da esquerda é menor e se o espaço no bin dele é maior\n",
    "            if(item_bin_right[\"value\"] > item_bin_left[\"value\"]):\n",
    "                if(item_bin_left[\"value\"] + bin_left[\"space_left\"] > item_bin_right[\"value\"] + bin_right[\"space_left\"]):\n",
    "                    aux = item_bin_left\n",
    "                    set_item_bin(bin_right, aux)\n",
    "                    remove_item_bin(bin_left, item_bin_left)\n",
    "                    aux = item_bin_right\n",
    "                    set_item_bin(bin_left, aux)\n",
    "                    remove_item_bin(bin_right, item_bin_right)\n",
    "                    return bin_left, bin_right                 \n",
    "        \n",
    "    return bin_left, bin_right"
   ]
  },
  {
   "cell_type": "code",
   "execution_count": 17,
   "metadata": {},
   "outputs": [],
   "source": [
    "def reduce_bins(solution):    \n",
    "    chosen_bin = random.choice(solution)\n",
    "    solution.remove(chosen_bin)\n",
    "    number_bins = len(solution)\n",
    "    for item in chosen_bin[\"itens\"]:\n",
    "        index_random = random.randint(0, number_bins - 1)\n",
    "        set_item_bin(solution[index_random], item)\n",
    "    return solution"
   ]
  },
  {
   "cell_type": "code",
   "execution_count": 7,
   "metadata": {},
   "outputs": [],
   "source": [
    "def is_bin_avaliable(bins, item, conflicts):\n",
    "    return bins[\"space_left\"] >= item[\"value\"] and has_conflict(conflicts, item, bins) == False"
   ]
  },
  {
   "cell_type": "code",
   "execution_count": 20,
   "metadata": {},
   "outputs": [],
   "source": [
    "def set_item_bin(bin, item):\n",
    "    bin[\"itens\"].append(item)\n",
    "    bin[\"space_left\"] = bin[\"space_left\"] - item[\"value\"]\n",
    "    return bin"
   ]
  },
  {
   "cell_type": "code",
   "execution_count": 21,
   "metadata": {},
   "outputs": [],
   "source": [
    "def remove_item_bin(bin, item):\n",
    "    bin[\"space_left\"] = bin[\"space_left\"] + item[\"value\"]\n",
    "    bin[\"itens\"].remove(item)    \n",
    "    return bin"
   ]
  },
  {
   "cell_type": "markdown",
   "metadata": {},
   "source": [
    "## Algoritmo de construção"
   ]
  },
  {
   "cell_type": "code",
   "execution_count": 11,
   "metadata": {},
   "outputs": [],
   "source": [
    "def first_fit_decreasing(itens, BIN_TOTAL_SPACE, conflicts):\n",
    "    sortedItens = sorted(itens, key=lambda k: k[\"value\"], reverse=True)\n",
    "    solution = [] #array of bins\n",
    "    for item in sortedItens:\n",
    "        if len(solution) == 0:\n",
    "            solution.append({\"itens\":[item], \"space_left\":BIN_TOTAL_SPACE-item[\"value\"]})\n",
    "            continue\n",
    "        inserted = False\n",
    "        for bins in solution:\n",
    "            if is_bin_avaliable(bins, item, conflicts):\n",
    "                bins[\"itens\"].append(item)\n",
    "                bins[\"space_left\"] -= item[\"value\"]\n",
    "                inserted = True\n",
    "                break\n",
    "                \n",
    "        if not inserted:\n",
    "            solution.append({\"itens\":[item], \"space_left\":BIN_TOTAL_SPACE-item[\"value\"]})\n",
    "    return solution"
   ]
  },
  {
   "cell_type": "markdown",
   "metadata": {},
   "source": [
    "## Busca Local"
   ]
  },
  {
   "cell_type": "code",
   "execution_count": 9,
   "metadata": {},
   "outputs": [],
   "source": [
    "def local_search(bins, bin_size):\n",
    "    random.shuffle(bins)\n",
    "    for i in range(1,len(bins)):\n",
    "        if (bins[i-1][\"space_left\"] < 0 or bins[i][\"space_left\"] < 0):\n",
    "            bins[i-1], bins[i] = swap_bins(bins[i-1], bins[i], bin_size)\n",
    "    return bins"
   ]
  },
  {
   "cell_type": "markdown",
   "metadata": {},
   "source": [
    "# Solução"
   ]
  },
  {
   "cell_type": "code",
   "execution_count": 22,
   "metadata": {},
   "outputs": [
    {
     "ename": "KeyboardInterrupt",
     "evalue": "",
     "output_type": "error",
     "traceback": [
      "\u001b[0;31m---------------------------------------------------------------------------\u001b[0m",
      "\u001b[0;31mKeyboardInterrupt\u001b[0m                         Traceback (most recent call last)",
      "\u001b[0;32m<ipython-input-22-ed80185ab566>\u001b[0m in \u001b[0;36m<module>\u001b[0;34m\u001b[0m\n\u001b[1;32m     31\u001b[0m \u001b[0;34m\u001b[0m\u001b[0m\n\u001b[1;32m     32\u001b[0m     \u001b[0;32mwhile\u001b[0m \u001b[0;34m(\u001b[0m\u001b[0mpertubation_count\u001b[0m \u001b[0;34m<=\u001b[0m \u001b[0mMAX_PERTUBATION\u001b[0m \u001b[0;32mand\u001b[0m \u001b[0;32mnot\u001b[0m \u001b[0mis_solution_viable\u001b[0m\u001b[0;34m(\u001b[0m\u001b[0mnew_solution\u001b[0m\u001b[0;34m,\u001b[0m \u001b[0mBIN_TOTAL_SPACE\u001b[0m\u001b[0;34m,\u001b[0m \u001b[0mconflicts\u001b[0m\u001b[0;34m)\u001b[0m\u001b[0;34m)\u001b[0m\u001b[0;34m:\u001b[0m\u001b[0;34m\u001b[0m\u001b[0;34m\u001b[0m\u001b[0m\n\u001b[0;32m---> 33\u001b[0;31m         \u001b[0mnew_solution\u001b[0m \u001b[0;34m=\u001b[0m \u001b[0mlocal_search\u001b[0m\u001b[0;34m(\u001b[0m\u001b[0mnew_solution\u001b[0m\u001b[0;34m,\u001b[0m \u001b[0mBIN_TOTAL_SPACE\u001b[0m\u001b[0;34m)\u001b[0m\u001b[0;34m\u001b[0m\u001b[0;34m\u001b[0m\u001b[0m\n\u001b[0m\u001b[1;32m     34\u001b[0m         \u001b[0;31m#TODO - Ejection\u001b[0m\u001b[0;34m\u001b[0m\u001b[0;34m\u001b[0m\u001b[0;34m\u001b[0m\u001b[0m\n\u001b[1;32m     35\u001b[0m \u001b[0;34m\u001b[0m\u001b[0m\n",
      "\u001b[0;32m<ipython-input-9-b3cee38c3a81>\u001b[0m in \u001b[0;36mlocal_search\u001b[0;34m(bins, bin_size)\u001b[0m\n\u001b[1;32m      1\u001b[0m \u001b[0;32mdef\u001b[0m \u001b[0mlocal_search\u001b[0m\u001b[0;34m(\u001b[0m\u001b[0mbins\u001b[0m\u001b[0;34m,\u001b[0m \u001b[0mbin_size\u001b[0m\u001b[0;34m)\u001b[0m\u001b[0;34m:\u001b[0m\u001b[0;34m\u001b[0m\u001b[0;34m\u001b[0m\u001b[0m\n\u001b[0;32m----> 2\u001b[0;31m     \u001b[0mrandom\u001b[0m\u001b[0;34m.\u001b[0m\u001b[0mshuffle\u001b[0m\u001b[0;34m(\u001b[0m\u001b[0mbins\u001b[0m\u001b[0;34m)\u001b[0m\u001b[0;34m\u001b[0m\u001b[0;34m\u001b[0m\u001b[0m\n\u001b[0m\u001b[1;32m      3\u001b[0m     \u001b[0;32mfor\u001b[0m \u001b[0mi\u001b[0m \u001b[0;32min\u001b[0m \u001b[0mrange\u001b[0m\u001b[0;34m(\u001b[0m\u001b[0;36m1\u001b[0m\u001b[0;34m,\u001b[0m\u001b[0mlen\u001b[0m\u001b[0;34m(\u001b[0m\u001b[0mbins\u001b[0m\u001b[0;34m)\u001b[0m\u001b[0;34m)\u001b[0m\u001b[0;34m:\u001b[0m\u001b[0;34m\u001b[0m\u001b[0;34m\u001b[0m\u001b[0m\n\u001b[1;32m      4\u001b[0m         \u001b[0;32mif\u001b[0m \u001b[0;34m(\u001b[0m\u001b[0mbins\u001b[0m\u001b[0;34m[\u001b[0m\u001b[0mi\u001b[0m\u001b[0;34m-\u001b[0m\u001b[0;36m1\u001b[0m\u001b[0;34m]\u001b[0m\u001b[0;34m[\u001b[0m\u001b[0;34m\"space_left\"\u001b[0m\u001b[0;34m]\u001b[0m \u001b[0;34m<\u001b[0m \u001b[0;36m0\u001b[0m \u001b[0;32mor\u001b[0m \u001b[0mbins\u001b[0m\u001b[0;34m[\u001b[0m\u001b[0mi\u001b[0m\u001b[0;34m]\u001b[0m\u001b[0;34m[\u001b[0m\u001b[0;34m\"space_left\"\u001b[0m\u001b[0;34m]\u001b[0m \u001b[0;34m<\u001b[0m \u001b[0;36m0\u001b[0m\u001b[0;34m)\u001b[0m\u001b[0;34m:\u001b[0m\u001b[0;34m\u001b[0m\u001b[0;34m\u001b[0m\u001b[0m\n\u001b[1;32m      5\u001b[0m             \u001b[0mbins\u001b[0m\u001b[0;34m[\u001b[0m\u001b[0mi\u001b[0m\u001b[0;34m-\u001b[0m\u001b[0;36m1\u001b[0m\u001b[0;34m]\u001b[0m\u001b[0;34m,\u001b[0m \u001b[0mbins\u001b[0m\u001b[0;34m[\u001b[0m\u001b[0mi\u001b[0m\u001b[0;34m]\u001b[0m \u001b[0;34m=\u001b[0m \u001b[0mswap_bins\u001b[0m\u001b[0;34m(\u001b[0m\u001b[0mbins\u001b[0m\u001b[0;34m[\u001b[0m\u001b[0mi\u001b[0m\u001b[0;34m-\u001b[0m\u001b[0;36m1\u001b[0m\u001b[0;34m]\u001b[0m\u001b[0;34m,\u001b[0m \u001b[0mbins\u001b[0m\u001b[0;34m[\u001b[0m\u001b[0mi\u001b[0m\u001b[0;34m]\u001b[0m\u001b[0;34m,\u001b[0m \u001b[0mbin_size\u001b[0m\u001b[0;34m)\u001b[0m\u001b[0;34m\u001b[0m\u001b[0;34m\u001b[0m\u001b[0m\n",
      "\u001b[0;32m~/.pyenv/versions/3.6.8/lib/python3.6/random.py\u001b[0m in \u001b[0;36mshuffle\u001b[0;34m(self, x, random)\u001b[0m\n\u001b[1;32m    271\u001b[0m \u001b[0;34m\u001b[0m\u001b[0m\n\u001b[1;32m    272\u001b[0m         \u001b[0;32mif\u001b[0m \u001b[0mrandom\u001b[0m \u001b[0;32mis\u001b[0m \u001b[0;32mNone\u001b[0m\u001b[0;34m:\u001b[0m\u001b[0;34m\u001b[0m\u001b[0;34m\u001b[0m\u001b[0m\n\u001b[0;32m--> 273\u001b[0;31m             \u001b[0mrandbelow\u001b[0m \u001b[0;34m=\u001b[0m \u001b[0mself\u001b[0m\u001b[0;34m.\u001b[0m\u001b[0m_randbelow\u001b[0m\u001b[0;34m\u001b[0m\u001b[0;34m\u001b[0m\u001b[0m\n\u001b[0m\u001b[1;32m    274\u001b[0m             \u001b[0;32mfor\u001b[0m \u001b[0mi\u001b[0m \u001b[0;32min\u001b[0m \u001b[0mreversed\u001b[0m\u001b[0;34m(\u001b[0m\u001b[0mrange\u001b[0m\u001b[0;34m(\u001b[0m\u001b[0;36m1\u001b[0m\u001b[0;34m,\u001b[0m \u001b[0mlen\u001b[0m\u001b[0;34m(\u001b[0m\u001b[0mx\u001b[0m\u001b[0;34m)\u001b[0m\u001b[0;34m)\u001b[0m\u001b[0;34m)\u001b[0m\u001b[0;34m:\u001b[0m\u001b[0;34m\u001b[0m\u001b[0;34m\u001b[0m\u001b[0m\n\u001b[1;32m    275\u001b[0m                 \u001b[0;31m# pick an element in x[:i+1] with which to exchange x[i]\u001b[0m\u001b[0;34m\u001b[0m\u001b[0;34m\u001b[0m\u001b[0;34m\u001b[0m\u001b[0m\n",
      "\u001b[0;31mKeyboardInterrupt\u001b[0m: "
     ]
    }
   ],
   "source": [
    "BIN_TOTAL_SPACE = 10\n",
    "MAX_PERTUBATION = 5\n",
    "\n",
    "conflicts = {\n",
    "    \"0\":[2],\n",
    "    \"1\":[],\n",
    "    \"2\":[0]\n",
    "}\n",
    "\n",
    "fixtures = [\n",
    "            {\"value\":5, \"color\": 0},\n",
    "            {\"value\":4, \"color\": 0},\n",
    "            {\"value\":4, \"color\": 0},\n",
    "            {\"value\":4, \"color\": 0},\n",
    "            {\"value\":3, \"color\": 0},\n",
    "            {\"value\":2, \"color\": 0},\n",
    "            {\"value\":2, \"color\": 0},\n",
    "            {\"value\":2, \"color\": 0},\n",
    "            {\"value\":4, \"color\": 0}\n",
    "          ]\n",
    "\n",
    "solution = first_fit_decreasing(fixtures, BIN_TOTAL_SPACE, conflicts)    \n",
    "min_bins_count = get_lower_limit(BIN_TOTAL_SPACE, fixtures)\n",
    "bins_count = len(solution)   \n",
    "\n",
    "\n",
    "while (bins_count >= min_bins_count and is_solution_viable(solution, BIN_TOTAL_SPACE, conflicts)):\n",
    "    new_solution = reduce_bins(solution)\n",
    "    bins_count -= 1\n",
    "    pertubation_count = 0\n",
    "\n",
    "    while (pertubation_count <= MAX_PERTUBATION and not is_solution_viable(new_solution, BIN_TOTAL_SPACE, conflicts)):\n",
    "        new_solution = local_search(new_solution, BIN_TOTAL_SPACE)\n",
    "        #TODO - Ejection\n",
    "\n",
    "        #TODO - Pertubação\n",
    "\n",
    "    #caso não ache uma solução com a busca e a pertubação ele para\n",
    "    if(is_solution_viable(new_solution, BIN_TOTAL_SPACE, conflicts)): \n",
    "        solution = new_solution\n",
    "    else:\n",
    "        break"
   ]
  },
  {
   "cell_type": "code",
   "execution_count": 23,
   "metadata": {},
   "outputs": [
    {
     "data": {
      "application/unittest.status+json": {
       "color": "yellow",
       "message": "",
       "previous": 0
      },
      "text/plain": []
     },
     "metadata": {},
     "output_type": "display_data"
    },
    {
     "data": {
      "application/unittest.status+json": {
       "color": "salmon",
       "message": "E\n======================================================================\nERROR: test_first_fit (__main__.JupyterTest)\n----------------------------------------------------------------------\nTraceback (most recent call last):\n  File \"Cell Tests\", line 17, in test_first_fit\nTypeError: first_fit_decreasing() missing 1 required positional argument: 'conflicts'\n\n----------------------------------------------------------------------\nRan 1 test in 0.001s\n\nFAILED (errors=1)\n",
       "previous": 0
      },
      "text/plain": [
       "Fail"
      ]
     },
     "metadata": {},
     "output_type": "display_data"
    },
    {
     "name": "stdout",
     "output_type": "stream",
     "text": [
      "E\n",
      "======================================================================\n",
      "ERROR: test_first_fit (__main__.JupyterTest)\n",
      "----------------------------------------------------------------------\n",
      "Traceback (most recent call last):\n",
      "  File \"Cell Tests\", line 17, in test_first_fit\n",
      "TypeError: first_fit_decreasing() missing 1 required positional argument: 'conflicts'\n",
      "\n",
      "----------------------------------------------------------------------\n",
      "Ran 1 test in 0.001s\n",
      "\n",
      "FAILED (errors=1)\n"
     ]
    },
    {
     "data": {
      "text/plain": [
       "<unittest.runner.TextTestResult run=1 errors=1 failures=0>"
      ]
     },
     "execution_count": 23,
     "metadata": {},
     "output_type": "execute_result"
    }
   ],
   "source": [
    "%%unittest_testcase\n",
    "def test_first_fit(self):\n",
    "    BIN_TOTAL_SPACE = 5\n",
    "    fixture = [\n",
    "                {\"value\":5},\n",
    "                {\"value\":4},\n",
    "                {\"value\":3},\n",
    "                {\"value\":1},\n",
    "                {\"value\":2}\n",
    "              ]\n",
    "    \n",
    "    solutionExpected = [\n",
    "                        {\"itens\":[{\"value\":5}], \"space_left\": 0},\n",
    "                        {\"itens\":[{\"value\":4},{\"value\":1}], \"space_left\": 0},\n",
    "                        {\"itens\":[{\"value\":3},{\"value\":2}], \"space_left\": 0},\n",
    "                     ]\n",
    "    \n",
    "    S = first_fit_decreasing(fixture, BIN_TOTAL_SPACE)\n",
    "    assert S == solutionExpected\n",
    "    "
   ]
  },
  {
   "cell_type": "code",
   "execution_count": 24,
   "metadata": {},
   "outputs": [
    {
     "data": {
      "application/unittest.status+json": {
       "color": "yellow",
       "message": "",
       "previous": 0
      },
      "text/plain": []
     },
     "metadata": {},
     "output_type": "display_data"
    },
    {
     "data": {
      "application/unittest.status+json": {
       "color": "salmon",
       "message": "E\n======================================================================\nERROR: test_bins_conflicting (__main__.JupyterTest)\n----------------------------------------------------------------------\nTraceback (most recent call last):\n  File \"Cell Tests\", line 21, in test_bins_conflicting\nNameError: name 'hasConflict' is not defined\n\n----------------------------------------------------------------------\nRan 1 test in 0.001s\n\nFAILED (errors=1)\n",
       "previous": 0
      },
      "text/plain": [
       "Fail"
      ]
     },
     "metadata": {},
     "output_type": "display_data"
    },
    {
     "name": "stdout",
     "output_type": "stream",
     "text": [
      "E\n",
      "======================================================================\n",
      "ERROR: test_bins_conflicting (__main__.JupyterTest)\n",
      "----------------------------------------------------------------------\n",
      "Traceback (most recent call last):\n",
      "  File \"Cell Tests\", line 21, in test_bins_conflicting\n",
      "NameError: name 'hasConflict' is not defined\n",
      "\n",
      "----------------------------------------------------------------------\n",
      "Ran 1 test in 0.001s\n",
      "\n",
      "FAILED (errors=1)\n"
     ]
    },
    {
     "data": {
      "text/plain": [
       "<unittest.runner.TextTestResult run=1 errors=1 failures=0>"
      ]
     },
     "execution_count": 24,
     "metadata": {},
     "output_type": "execute_result"
    }
   ],
   "source": [
    "%%unittest_testcase\n",
    "\n",
    "\"\"\"\n",
    "Test has_conflicts\n",
    "\"\"\"\n",
    "\n",
    "conflicts = {\n",
    "            \"0\":[2],\n",
    "            \"1\":[],\n",
    "            \"2\":[0]\n",
    "        }\n",
    "\n",
    "bins = {\"itens\":[{\"value\":3, \"color\": 0}], \"space_left\": 0}\n",
    "\n",
    "def test_bins_conflicting(self):\n",
    "    item = {\"value\":2, \"color\": 2}\n",
    "    conflicted = hasConflict(conflicts, item, bins)\n",
    "    assert conflicted == True\n",
    "\n",
    "def test_bins_conflicting(self):\n",
    "    item = {\"value\":2, \"color\": 1}\n",
    "    conflicted = hasConflict(conflicts, item, bins)\n",
    "    assert conflicted == False"
   ]
  },
  {
   "cell_type": "code",
   "execution_count": 26,
   "metadata": {},
   "outputs": [
    {
     "data": {
      "application/unittest.status+json": {
       "color": "yellow",
       "message": "",
       "previous": 0
      },
      "text/plain": []
     },
     "metadata": {},
     "output_type": "display_data"
    },
    {
     "data": {
      "application/unittest.status+json": {
       "color": "lightgreen",
       "message": "...\n----------------------------------------------------------------------\nRan 3 tests in 0.001s\n\nOK\n",
       "previous": 0
      },
      "text/plain": [
       "Success"
      ]
     },
     "metadata": {},
     "output_type": "display_data"
    },
    {
     "name": "stdout",
     "output_type": "stream",
     "text": [
      "...\n",
      "----------------------------------------------------------------------\n",
      "Ran 3 tests in 0.001s\n",
      "\n",
      "OK\n"
     ]
    },
    {
     "data": {
      "text/plain": [
       "<unittest.runner.TextTestResult run=3 errors=0 failures=0>"
      ]
     },
     "execution_count": 26,
     "metadata": {},
     "output_type": "execute_result"
    }
   ],
   "source": [
    "%%unittest_testcase\n",
    "\n",
    "\"\"\"\n",
    "Test is_solution_viable\n",
    "\"\"\"\n",
    "\n",
    "BIN_TOTAL_SPACE = 5\n",
    "    \n",
    "\n",
    "fixture = { \"bins\":[\n",
    "                {\"itens\":[{\"value\":5, \"color\": 0}], \"space_left\": 0},\n",
    "                {\"itens\":[{\"value\":4, \"color\": 0}, {\"value\":1, \"color\": 2}], \"space_left\": 0},\n",
    "                {\"itens\":[{\"value\":3, \"color\": 0},{\"value\":2, \"color\": 1}], \"space_left\": 0},\n",
    "            ],\n",
    "            \"conflicts\":{\n",
    "                \"0\":[],\n",
    "                \"1\":[2],\n",
    "                \"2\":[1]\n",
    "            }\n",
    "          }\n",
    "\n",
    "def test_solution_viability_with_conflicts(self):\n",
    "    conflicts = {\n",
    "        \"0\":[2],\n",
    "        \"1\":[],\n",
    "        \"2\":[0]\n",
    "    }\n",
    "    \n",
    "    response = is_solution_viable(fixture[\"bins\"], BIN_TOTAL_SPACE, conflicts)\n",
    "    assert response == False\n",
    "\n",
    "def test_solution_viability_with_bins_overloaded(self):\n",
    "    bins = [\n",
    "             {\"itens\":[{\"value\":5, \"color\": 0}], \"space_left\": 0},\n",
    "             {\"itens\":[{\"value\":4, \"color\": 0}, {\"value\":1, \"color\": 2}], \"space_left\": 0},\n",
    "             {\"itens\":[{\"value\":5, \"color\": 0},{\"value\":2, \"color\": 1}], \"space_left\": -2},\n",
    "           ]\n",
    "\n",
    "    response = is_solution_viable(bins, BIN_TOTAL_SPACE, fixture[\"conflicts\"])\n",
    "    assert response == False\n",
    "\n",
    "def test_solution_viable(self):\n",
    "    response = is_solution_viable(fixture[\"bins\"], BIN_TOTAL_SPACE, fixture[\"conflicts\"])\n",
    "    assert response == True"
   ]
  },
  {
   "cell_type": "markdown",
   "metadata": {},
   "source": [
    "## Ejection Chains"
   ]
  },
  {
   "cell_type": "code",
   "execution_count": null,
   "metadata": {},
   "outputs": [],
   "source": []
  }
 ],
 "metadata": {
  "kernelspec": {
   "display_name": "py3.8",
   "language": "python",
   "name": "py3.8"
  },
  "language_info": {
   "codemirror_mode": {
    "name": "ipython",
    "version": 3
   },
   "file_extension": ".py",
   "mimetype": "text/x-python",
   "name": "python",
   "nbconvert_exporter": "python",
   "pygments_lexer": "ipython3",
   "version": "3.6.8"
  }
 },
 "nbformat": 4,
 "nbformat_minor": 2
}
