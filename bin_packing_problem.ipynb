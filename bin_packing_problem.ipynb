{
 "cells": [
  {
   "cell_type": "markdown",
   "metadata": {},
   "source": [
    "# Bin Packing Problem with Conflicts"
   ]
  },
  {
   "cell_type": "markdown",
   "metadata": {},
   "source": [
    "### Algorithm 1: ILS para o PBPC (KLB, ItBL) \n",
    "\n",
    "```\n",
    "S ← ConstroiSoluçãoInicial();\n",
    "K ← Número de bins em S;\n",
    "enquanto K ≥ KLB and S é viável, faça: \n",
    "  ReduzNúmeroBins(S);\n",
    "  K ← K − 1;\n",
    "  ItPERT ← 0;\n",
    "  enquanto ItPERT ≤ ItMAX and S não é viável, faça: \n",
    "    S ← BuscaLocal(S);\n",
    "    S ← EjectionChains(S);\n",
    "    se ItBL sucessivas BL e EC sem melhora entao˜\n",
    "      S ← Perturbação(S);\n",
    "      ItPERT ← ItPERT + 1;\n",
    "      ItBL ← 0;\n",
    "      fim se\n",
    "    fim enquanto\n",
    "fim enquanto\n",
    "```"
   ]
  },
  {
   "cell_type": "markdown",
   "metadata": {},
   "source": [
    "## Algoritmo de construção"
   ]
  },
  {
   "cell_type": "code",
   "execution_count": 1,
   "metadata": {},
   "outputs": [],
   "source": [
    "def first_fit_decreasing(itens, BIN_TOTAL_SPACE):\n",
    "    sortedItens = sorted(itens, key=lambda k: k[\"value\"], reverse=True)\n",
    "    solution = [] #array of bins\n",
    "    for item in sortedItens:\n",
    "        if len(solution) == 0:\n",
    "            solution.append({\"itens\":[item], \"space_left\":BIN_TOTAL_SPACE-item[\"value\"]})\n",
    "            continue\n",
    "        for bins in solution:\n",
    "            if bins[\"space_left\"] > item[\"value\"] and not hasConflict(item, bins):\n",
    "                bins[\"itens\"].append(item)\n",
    "                bins[\"space_left\"] -= item[\"value\"]\n",
    "            else:\n",
    "                solution.append({\"itens\":[item], \"space_left\":BIN_TOTAL_SPACE-item[\"value\"]})\n",
    "    return solution\n",
    "                \n",
    "def hasConflict(item, bins):\n",
    "    return False"
   ]
  },
  {
   "cell_type": "code",
   "execution_count": null,
   "metadata": {},
   "outputs": [],
   "source": [
    "%load_ext ipython_unittest"
   ]
  },
  {
   "cell_type": "code",
   "execution_count": null,
   "metadata": {},
   "outputs": [],
   "source": [
    "%%unittest_testcase\n",
    "def test_first_fit(self):\n",
    "    BIN_TOTAL_SPACE = 5\n",
    "    fixture = [\n",
    "                {\"value\":5},\n",
    "                {\"value\":4},\n",
    "                {\"value\":3},\n",
    "                {\"value\":1},\n",
    "                {\"value\":2}\n",
    "              ]\n",
    "    \n",
    "    solutionExpected = [\n",
    "                        {\"itens\":[{\"value\":5}], \"space_left\": 0},\n",
    "                        {\"itens\":[{\"value\":4},{\"value\":1}], \"space_left\": 0},\n",
    "                        {\"itens\":[{\"value\":3},{\"value\":2}], \"space_left\": 0},\n",
    "                     ]\n",
    "    \n",
    "    S = first_fit_decreasing(fixture, BIN_TOTAL_SPACE)\n",
    "    assert S == solutionExpected"
   ]
  },
  {
   "cell_type": "code",
   "execution_count": null,
   "metadata": {},
   "outputs": [],
   "source": [
    "fixture = [\n",
    "            {\"value\":5},\n",
    "            {\"value\":4},\n",
    "            {\"value\":3},\n",
    "            {\"value\":1},\n",
    "            {\"value\":2}\n",
    "          ]\n",
    "\n",
    "s = first_fit_decreasing(fixture, 5)\n",
    "s"
   ]
  },
  {
   "cell_type": "code",
   "execution_count": null,
   "metadata": {},
   "outputs": [],
   "source": []
  }
 ],
 "metadata": {
  "kernelspec": {
   "display_name": "Python 3",
   "language": "python",
   "name": "python3"
  },
  "language_info": {
   "codemirror_mode": {
    "name": "ipython",
    "version": 3
   },
   "file_extension": ".py",
   "mimetype": "text/x-python",
   "name": "python",
   "nbconvert_exporter": "python",
   "pygments_lexer": "ipython3",
   "version": "3.6.8"
  }
 },
 "nbformat": 4,
 "nbformat_minor": 2
}
