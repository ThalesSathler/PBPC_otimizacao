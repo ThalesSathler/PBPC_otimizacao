{
 "cells": [
  {
   "cell_type": "code",
   "execution_count": 1,
   "metadata": {},
   "outputs": [],
   "source": [
    "import random\n",
    "import pprint\n",
    "import copy\n",
    "pp = pprint.PrettyPrinter(indent=2)"
   ]
  },
  {
   "cell_type": "markdown",
   "metadata": {},
   "source": [
    "# Bin Packing Problem with Conflicts"
   ]
  },
  {
   "cell_type": "markdown",
   "metadata": {},
   "source": [
    "### Algorithm 1: ILS para o PBPC (KLB, ItBL) \n",
    "\n",
    "```\n",
    "S ← ConstroiSoluçãoInicial();\n",
    "K ← Número de bins em S;\n",
    "enquanto K ≥ KLB and S é viável, faça: \n",
    "  ReduzNúmeroBins(S);\n",
    "  K ← K − 1;\n",
    "  ItPERT ← 0;\n",
    "  enquanto ItPERT ≤ ItMAX and S não é viável, faça: \n",
    "    S ← BuscaLocal(S);\n",
    "    S ← EjectionChains(S);\n",
    "    se ItBL sucessivas BL e EC sem melhora entao˜\n",
    "      S ← Perturbação(S);\n",
    "      ItPERT ← ItPERT + 1;\n",
    "      ItBL ← 0;\n",
    "      fim se\n",
    "    fim enquanto\n",
    "fim enquanto\n",
    "```"
   ]
  },
  {
   "cell_type": "markdown",
   "metadata": {},
   "source": [
    "## Utilidades"
   ]
  },
  {
   "cell_type": "code",
   "execution_count": 2,
   "metadata": {},
   "outputs": [],
   "source": [
    "def get_lower_limit(bin_total_space, fixtures):\n",
    "    total_size = 0\n",
    "    for fixture in fixtures:\n",
    "        total_size += fixture[\"value\"]\n",
    "    \n",
    "    lower_limit = total_size / bin_total_space\n",
    "    \n",
    "    if lower_limit > int(lower_limit):\n",
    "        lower_limit = int(lower_limit) + 1\n",
    "\n",
    "    return lower_limit"
   ]
  },
  {
   "cell_type": "code",
   "execution_count": 3,
   "metadata": {},
   "outputs": [],
   "source": [
    "def has_conflict(conflicts, item, bins):\n",
    "    for item_bin in bins[\"itens\"]:\n",
    "        if item_bin[\"color\"] in conflicts[str(item[\"color\"])]:\n",
    "            return True\n",
    "    return False"
   ]
  },
  {
   "cell_type": "code",
   "execution_count": 4,
   "metadata": {},
   "outputs": [],
   "source": [
    "def is_solution_viable(solution, BIN_TOTAL_SPACE, conflicts):\n",
    "    for bins in solution:\n",
    "        if bins[\"space_left\"] < 0:\n",
    "            return False\n",
    "        for item in bins[\"itens\"]:\n",
    "            if has_conflict(conflicts, item, bins):\n",
    "                return False\n",
    "    return True"
   ]
  },
  {
   "cell_type": "code",
   "execution_count": 5,
   "metadata": {},
   "outputs": [],
   "source": [
    "def relocate(bin_left, bin_right):\n",
    "    def objective_function(bin_left, bin_right, item):\n",
    "        return abs(bin_left[\"space_left\"] + item[\"value\"]) + abs(bin_right[\"space_left\"] - item[\"value\"])\n",
    "    \n",
    "    new_left_bin = copy.deepcopy(bin_left)\n",
    "    new_right_bin = copy.deepcopy(bin_right)\n",
    "    random.shuffle(new_left_bin[\"itens\"])\n",
    "    \n",
    "    best_choice = abs(new_left_bin[\"space_left\"]) + abs(new_right_bin[\"space_left\"])\n",
    "    for item in new_left_bin[\"itens\"]:\n",
    "        if len(new_left_bin[\"itens\"]) > 1:\n",
    "            test_choice = objective_function(new_left_bin, new_right_bin, item)\n",
    "            if test_choice < best_choice:\n",
    "                new_left_bin = remove_item_bin(new_left_bin, item)\n",
    "                new_right_bin = set_item_bin(new_right_bin, item)\n",
    "                best_choice = test_choice \n",
    "    return new_left_bin, new_right_bin"
   ]
  },
  {
   "cell_type": "code",
   "execution_count": 34,
   "metadata": {},
   "outputs": [],
   "source": [
    "def swap_item_bins(left_bin, right_bin, left_item, right_item):\n",
    "    right_bin = remove_item_bin(right_bin, right_item)\n",
    "    left_bin = remove_item_bin(left_bin, left_item)\n",
    "    right_bin = set_item_bin(right_bin, left_item)\n",
    "    left_bin = set_item_bin(left_bin, right_item)\n",
    "    return left_bin, right_bin"
   ]
  },
  {
   "cell_type": "code",
   "execution_count": 36,
   "metadata": {},
   "outputs": [],
   "source": [
    "def swap(old_bin_left, old_bin_right):\n",
    "    def objective_function(bin_left, bin_right, left_item, right_item):\n",
    "        return abs(new_left_bin[\"space_left\"] + left_item[\"value\"] - right_item[\"value\"]) + abs(new_right_bin[\"space_left\"] + right_item[\"value\"] - left_item[\"value\"])\n",
    "    \n",
    "    new_left_bin = old_bin_left\n",
    "    new_right_bin = old_bin_right\n",
    "    best_choice = abs(new_left_bin[\"space_left\"]) + abs(new_right_bin[\"space_left\"])\n",
    "    for item_bin_left in new_left_bin[\"itens\"]:\n",
    "        for item_bin_right in new_right_bin[\"itens\"]:\n",
    "            test_choice = objective_function(new_left_bin, new_right_bin, item_bin_left, item_bin_right)\n",
    "            if test_choice < best_choice:\n",
    "                best_choice = test_choice \n",
    "                new_left_bin, new_right_bin = swap_item_bins(new_left_bin, new_right_bin, item_bin_left, item_bin_right)    \n",
    "                break\n",
    "        \n",
    "    return new_left_bin, new_right_bin"
   ]
  },
  {
   "cell_type": "code",
   "execution_count": 8,
   "metadata": {},
   "outputs": [],
   "source": [
    "def reduce_bins(bins):    \n",
    "    bin_choiced = random.choice(bins)\n",
    "    bins.remove(bin_choiced)\n",
    "    number_bins = len(bins)\n",
    "    for item in bin_choiced[\"itens\"]:\n",
    "        index_random = random.randint(0, number_bins - 1)\n",
    "        set_item_bin(bins[index_random], item)\n",
    "    return bins"
   ]
  },
  {
   "cell_type": "code",
   "execution_count": 9,
   "metadata": {},
   "outputs": [],
   "source": [
    "def is_bin_avaliable(bins, item, conflicts):\n",
    "    return bins[\"space_left\"] >= item[\"value\"] and has_conflict(conflicts, item, bins) == False"
   ]
  },
  {
   "cell_type": "code",
   "execution_count": 10,
   "metadata": {},
   "outputs": [],
   "source": [
    "def set_item_bin(bin, item):\n",
    "    bin[\"itens\"].append(item)\n",
    "    bin[\"space_left\"] = bin[\"space_left\"] - item[\"value\"]\n",
    "    return bin"
   ]
  },
  {
   "cell_type": "code",
   "execution_count": 11,
   "metadata": {},
   "outputs": [],
   "source": [
    "def remove_item_bin(bin, item):\n",
    "    bin[\"space_left\"] = bin[\"space_left\"] + item[\"value\"]\n",
    "    bin[\"itens\"].remove(item)    \n",
    "    return bin"
   ]
  },
  {
   "cell_type": "code",
   "execution_count": 12,
   "metadata": {},
   "outputs": [],
   "source": [
    "def is_bin_conflicted(conflicts, bins):\n",
    "    for item in bins[\"itens\"]:\n",
    "        if has_conflict(conflicts, item, bins):\n",
    "            return True\n",
    "    return False"
   ]
  },
  {
   "cell_type": "markdown",
   "metadata": {},
   "source": [
    "## Algoritmo de construção"
   ]
  },
  {
   "cell_type": "code",
   "execution_count": 13,
   "metadata": {},
   "outputs": [],
   "source": [
    "def first_fit_decreasing(itens, BIN_TOTAL_SPACE, conflicts):\n",
    "    sortedItens = sorted(itens, key=lambda k: k[\"value\"], reverse=True)\n",
    "    solution = [] #array of bins\n",
    "    for item in sortedItens:\n",
    "        if len(solution) == 0:\n",
    "            solution.append({\"itens\":[item], \"space_left\":BIN_TOTAL_SPACE-item[\"value\"]})\n",
    "            continue\n",
    "        inserted = False\n",
    "        for bins in solution:\n",
    "            if is_bin_avaliable(bins, item, conflicts):\n",
    "                bins[\"itens\"].append(item)\n",
    "                bins[\"space_left\"] -= item[\"value\"]\n",
    "                inserted = True\n",
    "                break\n",
    "                \n",
    "        if not inserted:\n",
    "            solution.append({\"itens\":[item], \"space_left\":BIN_TOTAL_SPACE-item[\"value\"]})\n",
    "    return solution"
   ]
  },
  {
   "cell_type": "markdown",
   "metadata": {},
   "source": [
    "## Busca Local"
   ]
  },
  {
   "cell_type": "code",
   "execution_count": 14,
   "metadata": {},
   "outputs": [],
   "source": [
    "def local_search(solution):\n",
    "    random.shuffle(solution)\n",
    "    for i in range(1,len(solution)):\n",
    "        # if (solution[i-1][\"space_left\"] < 0 or solution[i][\"space_left\"] < 0):\n",
    "        swap_left_bin, swap_right_bin = swap(solution[i-1], solution[i])\n",
    "        relocate_left_bin, relocate_right_bin = relocate(solution[i-1], solution[i])\n",
    "        if abs(swap_left_bin[\"space_left\"]) + abs(swap_right_bin[\"space_left\"]) <= abs(relocate_left_bin[\"space_left\"]) + abs(relocate_right_bin[\"space_left\"]):\n",
    "            solution[i-1], solution[i] = swap_left_bin, swap_right_bin\n",
    "        else:\n",
    "            solution[i-1], solution[i] = relocate_left_bin, relocate_right_bin\n",
    "    return solution"
   ]
  },
  {
   "cell_type": "markdown",
   "metadata": {},
   "source": [
    "## Ejection Chains"
   ]
  },
  {
   "cell_type": "code",
   "execution_count": 15,
   "metadata": {},
   "outputs": [],
   "source": [
    "def calculate_removal_cost(bin, item):\n",
    "    if item in bin[\"itens\"]:\n",
    "        return (bin[\"space_left\"] + item[\"value\"]) - bin[\"space_left\"]\n",
    "\n",
    "def calculate_swap_cost(bin, item_left, item_right):\n",
    "    if item_right in bin[\"itens\"]:\n",
    "        return ((bin[\"space_left\"] + item_right[\"value\"]) - item_left[\"value\"]) - bin[\"space_left\"]\n",
    "    else:\n",
    "        raise Exception('item not in bin')\n",
    "    \n",
    "def calculate_insertion_cost(bin, item):\n",
    "    return bin[\"space_left\"] - (bin[\"space_left\"] + item[\"value\"])"
   ]
  },
  {
   "cell_type": "code",
   "execution_count": 16,
   "metadata": {},
   "outputs": [],
   "source": [
    "def chain_ejections(solution, decisions):\n",
    "    for movement in decisions:\n",
    "        if movement[\"method\"] == 'REMOVAL':\n",
    "            solution[movement[\"bin\"]] = remove_item_bin(solution[movement[\"bin\"]], movement[\"item\"])\n",
    "        if movement[\"method\"] == 'INSERTION':\n",
    "            solution[movement[\"bin\"]] = set_item_bin(solution[movement[\"bin\"]], movement[\"item\"])\n",
    "        if movement[\"method\"] == 'SWAP':\n",
    "            solution[movement[\"bin\"]], solution[movement[\"bin\"]-1] = swap_item_bins(solution[movement[\"bin\"]], solution[movement[\"bin\"]-1], movement[\"swap_for\"], movement[\"item\"])\n",
    "    return solution"
   ]
  },
  {
   "cell_type": "code",
   "execution_count": 17,
   "metadata": {},
   "outputs": [],
   "source": [
    "def eject(start_point, solution, index):\n",
    "    def make_decision(cost, item, method, bin, swap_for=None):\n",
    "        return {\"cost\": cost, \"item\": item, \"method\": method, \"bin\": bin, \"swap_for\": swap_for}\n",
    "    decision = dict()\n",
    "    if start_point == \"vSource\":\n",
    "        for item in solution[index]['itens']:\n",
    "            removal_cost = calculate_removal_cost(solution[index], item)\n",
    "            if \"cost\" in decision and removal_cost < decision[\"cost\"]:\n",
    "                decision = make_decision(removal_cost, item, 'REMOVAL', index)\n",
    "            else:\n",
    "                decision = make_decision(removal_cost, item, 'REMOVAL', index)\n",
    "                \n",
    "    else:\n",
    "        insertion_cost = calculate_insertion_cost(solution[index], start_point)\n",
    "        decision = make_decision(insertion_cost, start_point, 'INSERTION', index)\n",
    "        for item in solution[index]['itens']:\n",
    "            swap_cost = calculate_swap_cost(solution[index], start_point, item)\n",
    "            if swap_cost < decision[\"cost\"]:\n",
    "                decision = make_decision(swap_cost, start_point, 'SWAP', index, swap_for=item)\n",
    "    \n",
    "    return decision"
   ]
  },
  {
   "cell_type": "code",
   "execution_count": 93,
   "metadata": {},
   "outputs": [],
   "source": [
    "def ejection_chains(solution):\n",
    "    new_solution = copy.deepcopy(solution)\n",
    "    random.shuffle(new_solution)\n",
    "    decisions = []\n",
    "    bin_index = 0\n",
    "    while bin_index < len(new_solution):\n",
    "        if bin_index == 0 or len(decisions) <= 0:\n",
    "            if len(new_solution[bin_index][\"itens\"]) <= 1:\n",
    "                bin_index += 1\n",
    "                continue\n",
    "            decisions.append(eject(\"vSource\", new_solution, bin_index))\n",
    "            bin_index += 1\n",
    "        elif decisions[-1][\"method\"] == \"INSERTION\":\n",
    "            if len(new_solution[bin_index-1][\"itens\"]) <= 1:\n",
    "                bin_index += 1\n",
    "                continue\n",
    "            decisions.append(eject(\"vSource\", new_solution, bin_index-1))\n",
    "        else:\n",
    "            decisions[-1][\"item\"]\n",
    "            decisions.append(eject(decisions[-1][\"item\"], new_solution, bin_index))\n",
    "            bin_index += 1\n",
    "            \n",
    "    new_solution = chain_ejections(new_solution,decisions)\n",
    "    return new_solution\n",
    "\n",
    "            "
   ]
  },
  {
   "cell_type": "markdown",
   "metadata": {},
   "source": [
    "# Solução"
   ]
  },
  {
   "cell_type": "code",
   "execution_count": 96,
   "metadata": {},
   "outputs": [],
   "source": [
    "def perturbate(conflicts, solution):\n",
    "    new_solution = copy.deepcopy(solution)\n",
    "    random.shuffle(new_solution)\n",
    "    perturbated = False\n",
    "    for index, bins in enumerate(new_solution):\n",
    "        if is_bin_conflicted(conflicts,bins) or bins[\"space_left\"] < 0:\n",
    "            if index > 0:\n",
    "                new_solution[index], new_solution[index-1] = relocate(bins, new_solution[index-1])\n",
    "            else:\n",
    "                new_solution[index], new_solution[index+1] = relocate(bins, new_solution[index+1])\n",
    "            perturbated = True\n",
    "            break\n",
    "    if not perturbated:\n",
    "        new_solution[0], new_solution[1] = relocate(new_solution[0], new_solution[1])\n",
    "    return new_solution"
   ]
  },
  {
   "cell_type": "code",
   "execution_count": 97,
   "metadata": {},
   "outputs": [],
   "source": [
    "def iterated_local_search():\n",
    "    \n",
    "    BIN_TOTAL_SPACE = 10\n",
    "    MAX_PERTUBATION = 100\n",
    "    MAX_LOCAL_SEARCH = 20\n",
    "\n",
    "    conflicts = {\n",
    "        \"0\":[2],\n",
    "        \"1\":[],\n",
    "        \"2\":[0]\n",
    "    }\n",
    "                    \n",
    "    fixtures = [\n",
    "                {\"value\":5, \"color\": 2},\n",
    "                {\"value\":4, \"color\": 0},\n",
    "                {\"value\":4, \"color\": 0},\n",
    "                {\"value\":4, \"color\": 0},\n",
    "                {\"value\":3, \"color\": 2},\n",
    "                {\"value\":2, \"color\": 0},\n",
    "                {\"value\":2, \"color\": 0},\n",
    "                {\"value\":2, \"color\": 2},\n",
    "                {\"value\":4, \"color\": 0},\n",
    "                {\"value\":5, \"color\": 0},\n",
    "                {\"value\":3, \"color\": 0},\n",
    "                {\"value\":2, \"color\": 0},\n",
    "                {\"value\":9, \"color\": 2},\n",
    "                {\"value\":1, \"color\": 2},\n",
    "              ]\n",
    "\n",
    "    first_solution = first_fit_decreasing(fixtures, BIN_TOTAL_SPACE, conflicts)    \n",
    "    min_bins_count = get_lower_limit(BIN_TOTAL_SPACE, fixtures)\n",
    "    final_solution = first_solution\n",
    "    new_solution = copy.deepcopy(first_solution)\n",
    "    bins_count = len(final_solution)\n",
    "    \n",
    "    while (bins_count > min_bins_count and is_solution_viable(final_solution, BIN_TOTAL_SPACE, conflicts)):\n",
    "        new_solution = reduce_bins(new_solution)\n",
    "        bins_count -= 1\n",
    "        pertubation_count = 0\n",
    "        local_search_count = 0\n",
    "\n",
    "        while (pertubation_count < MAX_PERTUBATION and not is_solution_viable(new_solution, BIN_TOTAL_SPACE, conflicts)):\n",
    "            new_solution = local_search(new_solution)\n",
    "            if(is_solution_viable(new_solution, BIN_TOTAL_SPACE, conflicts)): \n",
    "                break\n",
    "            new_solution = ejection_chains(new_solution)\n",
    "            \n",
    "            if local_search_count >= MAX_LOCAL_SEARCH: \n",
    "                new_solution = perturbate(conflicts, new_solution)\n",
    "                pertubation_count += 1\n",
    "                local_search_count = 0\n",
    "\n",
    "            local_search_count += 1\n",
    "#             print(\"perturbações \", pertubation_count,\"busca local \", local_search_count)\n",
    "\n",
    "        #caso não ache uma solução com a busca e a pertubação ele para\n",
    "        if(is_solution_viable(new_solution, BIN_TOTAL_SPACE, conflicts)): \n",
    "            final_solution = copy.deepcopy(new_solution)\n",
    "        else:\n",
    "            break\n",
    "\n",
    "    \n",
    "    pp.pprint(final_solution)\n",
    "    print(len(final_solution))"
   ]
  },
  {
   "cell_type": "code",
   "execution_count": 105,
   "metadata": {},
   "outputs": [
    {
     "name": "stdout",
     "output_type": "stream",
     "text": [
      "[ { 'itens': [{'color': 2, 'value': 9}, {'color': 2, 'value': 1}],\n",
      "    'space_left': 0},\n",
      "  { 'itens': [ {'color': 2, 'value': 5},\n",
      "               {'color': 2, 'value': 3},\n",
      "               {'color': 2, 'value': 2}],\n",
      "    'space_left': 0},\n",
      "  { 'itens': [{'color': 0, 'value': 5}, {'color': 0, 'value': 4}],\n",
      "    'space_left': 1},\n",
      "  { 'itens': [ {'color': 0, 'value': 4},\n",
      "               {'color': 0, 'value': 4},\n",
      "               {'color': 0, 'value': 2}],\n",
      "    'space_left': 0},\n",
      "  { 'itens': [ {'color': 0, 'value': 4},\n",
      "               {'color': 0, 'value': 3},\n",
      "               {'color': 0, 'value': 2}],\n",
      "    'space_left': 1},\n",
      "  {'itens': [{'color': 0, 'value': 2}], 'space_left': 8}]\n",
      "6\n"
     ]
    }
   ],
   "source": [
    "iterated_local_search()"
   ]
  },
  {
   "cell_type": "code",
   "execution_count": null,
   "metadata": {},
   "outputs": [],
   "source": []
  },
  {
   "cell_type": "code",
   "execution_count": null,
   "metadata": {},
   "outputs": [],
   "source": []
  }
 ],
 "metadata": {
  "kernelspec": {
   "display_name": "py3.8",
   "language": "python",
   "name": "py3.8"
  },
  "language_info": {
   "codemirror_mode": {
    "name": "ipython",
    "version": 3
   },
   "file_extension": ".py",
   "mimetype": "text/x-python",
   "name": "python",
   "nbconvert_exporter": "python",
   "pygments_lexer": "ipython3",
   "version": "3.6.8"
  }
 },
 "nbformat": 4,
 "nbformat_minor": 2
}
