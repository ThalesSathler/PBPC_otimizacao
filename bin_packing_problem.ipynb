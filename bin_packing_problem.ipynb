{
 "cells": [
  {
   "cell_type": "code",
   "execution_count": 2,
   "metadata": {},
   "outputs": [],
   "source": [
    "%load_ext ipython_unittest"
   ]
  },
  {
   "cell_type": "markdown",
   "metadata": {},
   "source": [
    "# Bin Packing Problem with Conflicts"
   ]
  },
  {
   "cell_type": "markdown",
   "metadata": {},
   "source": [
    "### Algorithm 1: ILS para o PBPC (KLB, ItBL) \n",
    "\n",
    "```\n",
    "S ← ConstroiSoluçãoInicial();\n",
    "K ← Número de bins em S;\n",
    "enquanto K ≥ KLB and S é viável, faça: \n",
    "  ReduzNúmeroBins(S);\n",
    "  K ← K − 1;\n",
    "  ItPERT ← 0;\n",
    "  enquanto ItPERT ≤ ItMAX and S não é viável, faça: \n",
    "    S ← BuscaLocal(S);\n",
    "    S ← EjectionChains(S);\n",
    "    se ItBL sucessivas BL e EC sem melhora entao˜\n",
    "      S ← Perturbação(S);\n",
    "      ItPERT ← ItPERT + 1;\n",
    "      ItBL ← 0;\n",
    "      fim se\n",
    "    fim enquanto\n",
    "fim enquanto\n",
    "```"
   ]
  },
  {
   "cell_type": "markdown",
   "metadata": {},
   "source": [
    "## Utilidades"
   ]
  },
  {
   "cell_type": "code",
   "execution_count": 3,
   "metadata": {},
   "outputs": [],
   "source": [
    "def hasConflict(conflicts, item, bins):\n",
    "    for item_bin in bins[\"itens\"]:\n",
    "        if item_bin[\"color\"] in conflicts[str(item[\"color\"])]:\n",
    "            return True\n",
    "    return False"
   ]
  },
  {
   "cell_type": "code",
   "execution_count": 6,
   "metadata": {},
   "outputs": [
    {
     "data": {
      "application/unittest.status+json": {
       "color": "yellow",
       "message": "",
       "previous": 0
      },
      "text/plain": []
     },
     "metadata": {},
     "output_type": "display_data"
    },
    {
     "data": {
      "application/unittest.status+json": {
       "color": "lightgreen",
       "message": ".\n----------------------------------------------------------------------\nRan 1 test in 0.001s\n\nOK\n",
       "previous": 0
      },
      "text/plain": [
       "Success"
      ]
     },
     "metadata": {},
     "output_type": "display_data"
    },
    {
     "name": "stdout",
     "output_type": "stream",
     "text": [
      ".\n",
      "----------------------------------------------------------------------\n",
      "Ran 1 test in 0.001s\n",
      "\n",
      "OK\n"
     ]
    },
    {
     "data": {
      "text/plain": [
       "<unittest.runner.TextTestResult run=1 errors=0 failures=0>"
      ]
     },
     "execution_count": 6,
     "metadata": {},
     "output_type": "execute_result"
    }
   ],
   "source": [
    "%%unittest_testcase\n",
    "conflicts = {\n",
    "            \"0\":[2],\n",
    "            \"1\":[],\n",
    "            \"2\":[0]\n",
    "        }\n",
    "\n",
    "bins = {\"itens\":[{\"value\":3, \"color\": 0}], \"space_left\": 0}\n",
    "\n",
    "def test_bins_conflicting(self):\n",
    "    item = {\"value\":2, \"color\": 2}\n",
    "    conflicted = hasConflict(conflicts, item, bins)\n",
    "    assert conflicted == True\n",
    "\n",
    "def test_bins_conflicting(self):\n",
    "    item = {\"value\":2, \"color\": 1}\n",
    "    conflicted = hasConflict(conflicts, item, bins)\n",
    "    assert conflicted == False"
   ]
  },
  {
   "cell_type": "code",
   "execution_count": 18,
   "metadata": {},
   "outputs": [],
   "source": [
    "def isSolutionViable(solution, BIN_TOTAL_SPACE, conflicts):\n",
    "    for bins in solution:\n",
    "        if bins[\"space_left\"] < 0:\n",
    "            return False\n",
    "        for item in bins[\"itens\"]:\n",
    "            if hasConflict(conflicts, item, bins):\n",
    "                return False\n",
    "    return True"
   ]
  },
  {
   "cell_type": "code",
   "execution_count": 19,
   "metadata": {},
   "outputs": [
    {
     "data": {
      "application/unittest.status+json": {
       "color": "yellow",
       "message": "",
       "previous": 0
      },
      "text/plain": []
     },
     "metadata": {},
     "output_type": "display_data"
    },
    {
     "data": {
      "application/unittest.status+json": {
       "color": "lightgreen",
       "message": "...\n----------------------------------------------------------------------\nRan 3 tests in 0.001s\n\nOK\n",
       "previous": 0
      },
      "text/plain": [
       "Success"
      ]
     },
     "metadata": {},
     "output_type": "display_data"
    },
    {
     "name": "stdout",
     "output_type": "stream",
     "text": [
      "...\n",
      "----------------------------------------------------------------------\n",
      "Ran 3 tests in 0.001s\n",
      "\n",
      "OK\n"
     ]
    },
    {
     "data": {
      "text/plain": [
       "<unittest.runner.TextTestResult run=3 errors=0 failures=0>"
      ]
     },
     "execution_count": 19,
     "metadata": {},
     "output_type": "execute_result"
    }
   ],
   "source": [
    "%%unittest_testcase\n",
    "\n",
    "BIN_TOTAL_SPACE = 5\n",
    "    \n",
    "\n",
    "fixture = { \"bins\":[\n",
    "                {\"itens\":[{\"value\":5, \"color\": 0}], \"space_left\": 0},\n",
    "                {\"itens\":[{\"value\":4, \"color\": 0}, {\"value\":1, \"color\": 2}], \"space_left\": 0},\n",
    "                {\"itens\":[{\"value\":3, \"color\": 0},{\"value\":2, \"color\": 1}], \"space_left\": 0},\n",
    "            ],\n",
    "            \"conflicts\":{\n",
    "                \"0\":[],\n",
    "                \"1\":[2],\n",
    "                \"2\":[1]\n",
    "            }\n",
    "          }\n",
    "\n",
    "def test_solution_viability_with_conflicts(self):\n",
    "    conflicts = {\n",
    "        \"0\":[2],\n",
    "        \"1\":[],\n",
    "        \"2\":[0]\n",
    "    }\n",
    "    \n",
    "    response = isSolutionViable(fixture[\"bins\"], BIN_TOTAL_SPACE, conflicts)\n",
    "    assert response == False\n",
    "\n",
    "def test_solution_viability_with_bins_overloaded(self):\n",
    "    bins = [\n",
    "             {\"itens\":[{\"value\":5, \"color\": 0}], \"space_left\": 0},\n",
    "             {\"itens\":[{\"value\":4, \"color\": 0}, {\"value\":1, \"color\": 2}], \"space_left\": 0},\n",
    "             {\"itens\":[{\"value\":5, \"color\": 0},{\"value\":2, \"color\": 1}], \"space_left\": -2},\n",
    "           ]\n",
    "\n",
    "    response = isSolutionViable(bins, BIN_TOTAL_SPACE, fixture[\"conflicts\"])\n",
    "    assert response == False\n",
    "\n",
    "def test_solution_viable(self):\n",
    "    response = isSolutionViable(fixture[\"bins\"], BIN_TOTAL_SPACE, fixture[\"conflicts\"])\n",
    "    assert response == True"
   ]
  },
  {
   "cell_type": "markdown",
   "metadata": {},
   "source": [
    "## Algoritmo de construção"
   ]
  },
  {
   "cell_type": "code",
   "execution_count": 7,
   "metadata": {},
   "outputs": [],
   "source": [
    "def first_fit_decreasing(itens, BIN_TOTAL_SPACE):\n",
    "    sortedItens = sorted(itens, key=lambda k: k[\"value\"], reverse=True)\n",
    "    solution = [] #array of bins\n",
    "    for item in sortedItens:\n",
    "        if len(solution) == 0:\n",
    "            solution.append({\"itens\":[item], \"space_left\":BIN_TOTAL_SPACE-item[\"value\"]})\n",
    "            continue\n",
    "        inserted = False\n",
    "        for bins in solution:\n",
    "            if bins[\"space_left\"] >= item[\"value\"] and hasConflict(item, bins) == False:\n",
    "                bins[\"itens\"].append(item)\n",
    "                bins[\"space_left\"] -= item[\"value\"]\n",
    "                inserted = True\n",
    "                break\n",
    "                \n",
    "        if not inserted:\n",
    "            solution.append({\"itens\":[item], \"space_left\":BIN_TOTAL_SPACE-item[\"value\"]})\n",
    "    return solution"
   ]
  },
  {
   "cell_type": "code",
   "execution_count": 9,
   "metadata": {},
   "outputs": [
    {
     "data": {
      "application/unittest.status+json": {
       "color": "yellow",
       "message": "",
       "previous": 0
      },
      "text/plain": []
     },
     "metadata": {},
     "output_type": "display_data"
    },
    {
     "data": {
      "application/unittest.status+json": {
       "color": "lightgreen",
       "message": ".\n----------------------------------------------------------------------\nRan 1 test in 0.000s\n\nOK\n",
       "previous": 0
      },
      "text/plain": [
       "Success"
      ]
     },
     "metadata": {},
     "output_type": "display_data"
    },
    {
     "name": "stdout",
     "output_type": "stream",
     "text": [
      ".\n",
      "----------------------------------------------------------------------\n",
      "Ran 1 test in 0.000s\n",
      "\n",
      "OK\n"
     ]
    },
    {
     "data": {
      "text/plain": [
       "<unittest.runner.TextTestResult run=1 errors=0 failures=0>"
      ]
     },
     "execution_count": 9,
     "metadata": {},
     "output_type": "execute_result"
    }
   ],
   "source": [
    "%%unittest_testcase\n",
    "def test_first_fit(self):\n",
    "    BIN_TOTAL_SPACE = 5\n",
    "    fixture = [\n",
    "                {\"value\":5},\n",
    "                {\"value\":4},\n",
    "                {\"value\":3},\n",
    "                {\"value\":1},\n",
    "                {\"value\":2}\n",
    "              ]\n",
    "    \n",
    "    solutionExpected = [\n",
    "                        {\"itens\":[{\"value\":5}], \"space_left\": 0},\n",
    "                        {\"itens\":[{\"value\":4},{\"value\":1}], \"space_left\": 0},\n",
    "                        {\"itens\":[{\"value\":3},{\"value\":2}], \"space_left\": 0},\n",
    "                     ]\n",
    "    \n",
    "    S = first_fit_decreasing(fixture, BIN_TOTAL_SPACE)\n",
    "    assert S == solutionExpected\n",
    "    "
   ]
  },
  {
   "cell_type": "code",
   "execution_count": null,
   "metadata": {},
   "outputs": [],
   "source": []
  },
  {
   "cell_type": "code",
   "execution_count": null,
   "metadata": {},
   "outputs": [],
   "source": []
  }
 ],
 "metadata": {
  "kernelspec": {
   "display_name": "py3.8",
   "language": "python",
   "name": "py3.8"
  },
  "language_info": {
   "codemirror_mode": {
    "name": "ipython",
    "version": 3
   },
   "file_extension": ".py",
   "mimetype": "text/x-python",
   "name": "python",
   "nbconvert_exporter": "python",
   "pygments_lexer": "ipython3",
   "version": "3.6.8"
  }
 },
 "nbformat": 4,
 "nbformat_minor": 2
}
